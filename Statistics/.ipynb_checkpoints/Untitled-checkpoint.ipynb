{
 "cells": [
  {
   "cell_type": "code",
   "execution_count": 12,
   "id": "d6f4b617",
   "metadata": {},
   "outputs": [
    {
     "data": {
      "text/html": [
       "<div>\n",
       "<style scoped>\n",
       "    .dataframe tbody tr th:only-of-type {\n",
       "        vertical-align: middle;\n",
       "    }\n",
       "\n",
       "    .dataframe tbody tr th {\n",
       "        vertical-align: top;\n",
       "    }\n",
       "\n",
       "    .dataframe thead th {\n",
       "        text-align: right;\n",
       "    }\n",
       "</style>\n",
       "<table border=\"1\" class=\"dataframe\">\n",
       "  <thead>\n",
       "    <tr style=\"text-align: right;\">\n",
       "      <th></th>\n",
       "      <th>Patient ID</th>\n",
       "      <th>Blood Pressure Before (mmHg)</th>\n",
       "      <th>Blood Pressure After (mmHg)</th>\n",
       "    </tr>\n",
       "  </thead>\n",
       "  <tbody>\n",
       "    <tr>\n",
       "      <th>0</th>\n",
       "      <td>1</td>\n",
       "      <td>130</td>\n",
       "      <td>120</td>\n",
       "    </tr>\n",
       "    <tr>\n",
       "      <th>1</th>\n",
       "      <td>2</td>\n",
       "      <td>142</td>\n",
       "      <td>135</td>\n",
       "    </tr>\n",
       "    <tr>\n",
       "      <th>2</th>\n",
       "      <td>3</td>\n",
       "      <td>120</td>\n",
       "      <td>118</td>\n",
       "    </tr>\n",
       "    <tr>\n",
       "      <th>3</th>\n",
       "      <td>4</td>\n",
       "      <td>135</td>\n",
       "      <td>127</td>\n",
       "    </tr>\n",
       "    <tr>\n",
       "      <th>4</th>\n",
       "      <td>5</td>\n",
       "      <td>148</td>\n",
       "      <td>140</td>\n",
       "    </tr>\n",
       "    <tr>\n",
       "      <th>...</th>\n",
       "      <td>...</td>\n",
       "      <td>...</td>\n",
       "      <td>...</td>\n",
       "    </tr>\n",
       "    <tr>\n",
       "      <th>95</th>\n",
       "      <td>96</td>\n",
       "      <td>136</td>\n",
       "      <td>129</td>\n",
       "    </tr>\n",
       "    <tr>\n",
       "      <th>96</th>\n",
       "      <td>97</td>\n",
       "      <td>143</td>\n",
       "      <td>137</td>\n",
       "    </tr>\n",
       "    <tr>\n",
       "      <th>97</th>\n",
       "      <td>98</td>\n",
       "      <td>127</td>\n",
       "      <td>123</td>\n",
       "    </tr>\n",
       "    <tr>\n",
       "      <th>98</th>\n",
       "      <td>99</td>\n",
       "      <td>139</td>\n",
       "      <td>135</td>\n",
       "    </tr>\n",
       "    <tr>\n",
       "      <th>99</th>\n",
       "      <td>100</td>\n",
       "      <td>135</td>\n",
       "      <td>130</td>\n",
       "    </tr>\n",
       "  </tbody>\n",
       "</table>\n",
       "<p>100 rows × 3 columns</p>\n",
       "</div>"
      ],
      "text/plain": [
       "    Patient ID   Blood Pressure Before (mmHg)   Blood Pressure After (mmHg)\n",
       "0            1                            130                           120\n",
       "1            2                            142                           135\n",
       "2            3                            120                           118\n",
       "3            4                            135                           127\n",
       "4            5                            148                           140\n",
       "..         ...                            ...                           ...\n",
       "95          96                            136                           129\n",
       "96          97                            143                           137\n",
       "97          98                            127                           123\n",
       "98          99                            139                           135\n",
       "99         100                            135                           130\n",
       "\n",
       "[100 rows x 3 columns]"
      ]
     },
     "execution_count": 12,
     "metadata": {},
     "output_type": "execute_result"
    }
   ],
   "source": [
    "import pandas as pd\n",
    "df= pd.read_csv(\"data.csv\")\n",
    "df"
   ]
  },
  {
   "cell_type": "code",
   "execution_count": 2,
   "id": "7c895026",
   "metadata": {},
   "outputs": [],
   "source": [
    "bp_before=df[' Blood Pressure Before (mmHg)']\n",
    "bp_after =  df[' Blood Pressure After (mmHg)']"
   ]
  },
  {
   "cell_type": "code",
   "execution_count": 3,
   "id": "6be84f42",
   "metadata": {
    "scrolled": true
   },
   "outputs": [
    {
     "name": "stdout",
     "output_type": "stream",
     "text": [
      "mean_bp_before: 133.91\n",
      "std_error_before: 0.6565203728750538\n",
      "confidence_interval_before (132.6232200691649, 135.1967799308351) \n",
      "\n",
      "mean_bp_after 128.36\n",
      "std_error_after 0.6853495458523338\n",
      "confidence_interval_after (127.01671489012944, 129.7032851098706)\n"
     ]
    },
    {
     "data": {
      "image/png": "[encoded data removed]",
      "text/plain": [
       "<Figure size 432x288 with 1 Axes>"
      ]
     },
     "metadata": {
      "needs_background": "light"
     },
     "output_type": "display_data"
    }
   ],
   "source": [
    "import matplotlib.pyplot as plt\n",
    "import math\n",
    "import numpy as np\n",
    "\n",
    "# Mean and Confidence Interval for 'Blood Pressure Before'\n",
    "mean_bp_before = sum(bp_before) / len(bp_before)\n",
    "std_error_before = np.std(bp_before) / math.sqrt(len(bp_before))\n",
    "confidence_interval_before = (mean_bp_before - 1.96 * std_error_before, mean_bp_before + 1.96 * std_error_before)\n",
    "print('mean_bp_before:',mean_bp_before)\n",
    "print('std_error_before:',std_error_before)\n",
    "print('confidence_interval_before', confidence_interval_before,'\\n')\n",
    "\n",
    "# Mean and Confidence Interval for 'Blood Pressure After'\n",
    "mean_bp_after = sum(bp_after) / len(bp_after)\n",
    "std_error_after = np.std(bp_after) / math.sqrt(len(bp_after))\n",
    "confidence_interval_after = (mean_bp_after - 1.96 * std_error_after, mean_bp_after + 1.96 * std_error_after)\n",
    "print('mean_bp_after',mean_bp_after)\n",
    "print('std_error_after',std_error_after)\n",
    "print('confidence_interval_after',confidence_interval_after)\n",
    "\n",
    "# Plotting the means and confidence intervals\n",
    "plt.errorbar(['Before', 'After'], [mean_bp_before, mean_bp_after], yerr=[confidence_interval_before[1]-mean_bp_before, confidence_interval_after[1]-mean_bp_after], fmt='o')\n",
    "plt.ylabel('Mean Blood Pressure (mmHg)')\n",
    "plt.title('Mean Blood Pressure Before and After')\n",
    "plt.show()"
   ]
  },
  {
   "cell_type": "code",
   "execution_count": null,
   "id": "3f63eacb",
   "metadata": {},
   "outputs": [],
   "source": []
  },
  {
   "cell_type": "code",
   "execution_count": 5,
   "id": "0f4ac9a3",
   "metadata": {},
   "outputs": [
    {
     "name": "stdout",
     "output_type": "stream",
     "text": [
      "mad_before: 5.7118\n",
      "mad_after: 5.9\n",
      "std_before: 6.5652037287505385\n",
      "std_after: 6.853495458523338\n"
     ]
    }
   ],
   "source": [
    "# Calculat the Mean Absolute Deviation (MAD)128.36\n",
    "mad_before = np.mean(np.abs(bp_before - mean_bp_before))\n",
    "mad_after = np.mean(np.abs(bp_after - mean_bp_after))\n",
    "\n",
    "print('mad_before:', mad_before)\n",
    "print('mad_after:', mad_after)\n",
    "\n",
    "# Calculate the Standard Deviation\n",
    "std_before = np.std(bp_before)\n",
    "std_after = np.std(bp_after)\n",
    "\n",
    "print('std_before:', std_before)\n",
    "print('std_after:', std_after)"
   ]
  },
  {
   "cell_type": "code",
   "execution_count": 11,
   "id": "8d94011d",
   "metadata": {},
   "outputs": [
    {
     "name": "stdout",
     "output_type": "stream",
     "text": [
      "correlation_coef: 0.9779485966556016\n",
      "t_critical: 2.3650024101176554\n",
      "t_value: 46.35573256849115\n",
      "significance: Significant correlation\n"
     ]
    }
   ],
   "source": [
    "import numpy as np\n",
    "from scipy.stats import t\n",
    "\n",
    "# Calculate the correlation coefficient\n",
    "correlation_coef = np.corrcoef(bp_before, bp_after)[0, 1]\n",
    "\n",
    "# Check significance at 1% level\n",
    "n = len(bp_before)\n",
    "degrees_of_freedom = n - 2\n",
    "t_critical = np.abs(t.ppf(0.01, degrees_of_freedom))\n",
    "t_value = correlation_coef * np.sqrt((n - 2) / (1 - correlation_coef**2))\n",
    "\n",
    "if np.abs(t_value) > t_critical:\n",
    "    significance = \"Significant correlation\"\n",
    "else:\n",
    "    significance = \"No significant correlation\"\n",
    "    \n",
    "print('correlation_coef:', correlation_coef)\n",
    "print('t_critical:', t_critical)    \n",
    "print('t_value:', t_value) \n",
    "print('significance:', significance) "
   ]
  },
  {
   "cell_type": "code",
   "execution_count": null,
   "id": "1ab36f6d",
   "metadata": {},
   "outputs": [],
   "source": []
  }
 ],
 "metadata": {
  "kernelspec": {
   "display_name": "Python 3 (ipykernel)",
   "language": "python",
   "name": "python3"
  },
  "language_info": {
   "codemirror_mode": {
    "name": "ipython",
    "version": 3
   },
   "file_extension": ".py",
   "mimetype": "text/x-python",
   "name": "python",
   "nbconvert_exporter": "python",
   "pygments_lexer": "ipython3",
   "version": "3.9.7"
  }
 },
 "nbformat": 4,
 "nbformat_minor": 5
}
