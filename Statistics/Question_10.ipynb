{
 "cells": [
  {
   "cell_type": "markdown",
   "id": "79ed8568",
   "metadata": {},
   "source": [
    "#### Q-10. A factory produces light bulbs, and the probability of a bulb being defective is 0.05. The factory produces a large batch of 500 light bulbs.                                  \n",
    "a. What is the probability that exactly 20 bulbs are defective?                                 \n",
    "b. What is the probability that at least 10 bulbs are defective?                      \n",
    "c. What is the probability that at max 15 bulbs are defective?                           \n",
    "d. On average, how many defective bulbs would you expect in a batch of 500?                           "
   ]
  },
  {
   "cell_type": "code",
   "execution_count": 1,
   "id": "07b6a15f",
   "metadata": {},
   "outputs": [
    {
     "name": "stdout",
     "output_type": "stream",
     "text": [
      "a. Probability of exactly 20 defective bulbs: 0.05161619253663997\n",
      "b. Probability of at least 10 defective bulbs: 0.9998316463654692\n",
      "c. Probability of at most 15 defective bulbs: 0.019858377163006223\n",
      "d. Expected number of defective bulbs: 25.0\n"
     ]
    }
   ],
   "source": [
    "from math import comb\n",
    "\n",
    "# Parameters\n",
    "n = 500  # Total number of light bulbs\n",
    "p = 0.05  # Probability of a bulb being defective\n",
    "\n",
    "# a. Probability of exactly 20 defective bulbs\n",
    "k1 = 20\n",
    "prob_20_defective = comb(n, k1) * p**k1 * (1 - p)**(n - k1)\n",
    "\n",
    "# b. Probability of at least 10 defective bulbs\n",
    "k2 = 10\n",
    "prob_at_least_10_defective = sum(comb(n, k) * p**k * (1 - p)**(n - k) for k in range(k2, n+1))\n",
    "\n",
    "# c. Probability of at most 15 defective bulbs\n",
    "k3 = 15\n",
    "prob_at_most_15_defective = sum(comb(n, k) * p**k * (1 - p)**(n - k) for k in range(k3 + 1))\n",
    "\n",
    "# d. Expected number of defective bulbs\n",
    "expected_defective_bulbs = n * p\n",
    "\n",
    "print(f\"a. Probability of exactly 20 defective bulbs: {prob_20_defective}\")\n",
    "print(f\"b. Probability of at least 10 defective bulbs: {prob_at_least_10_defective}\")\n",
    "print(f\"c. Probability of at most 15 defective bulbs: {prob_at_most_15_defective}\")\n",
    "print(f\"d. Expected number of defective bulbs: {expected_defective_bulbs}\")\n"
   ]
  },
  {
   "cell_type": "code",
   "execution_count": null,
   "id": "877bc89e",
   "metadata": {},
   "outputs": [],
   "source": []
  }
 ],
 "metadata": {
  "kernelspec": {
   "display_name": "Python 3 (ipykernel)",
   "language": "python",
   "name": "python3"
  },
  "language_info": {
   "codemirror_mode": {
    "name": "ipython",
    "version": 3
   },
   "file_extension": ".py",
   "mimetype": "text/x-python",
   "name": "python",
   "nbconvert_exporter": "python",
   "pygments_lexer": "ipython3",
   "version": "3.9.7"
  }
 },
 "nbformat": 4,
 "nbformat_minor": 5
}
