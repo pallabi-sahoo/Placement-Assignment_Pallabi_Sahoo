{
 "cells": [
  {
   "cell_type": "markdown",
   "id": "e0488d5e",
   "metadata": {},
   "source": [
    "**Q-12.** A pharmaceutical company develops a new drug and wants to compare its effectiveness against a standard drug for treating a particular condition. They conduct astudy with two groups: Group A receives the new drug, and Group B receives  the standard drug. The company measures the improvement in a specific symptom for both groups after a 4-week treatment period.                                                                                                         \n",
    "**a**. The company collects data from 30 patients in each group and calculates the mean improvement score and the standard deviation of improvement for each group. The mean improvement score for Group A is 2.5 with a standard deviation of 0.8, while the mean improvement score for Group B is 2.2 with a standard deviation of 0.6. Conduct a t-test to determine if there is a significant difference in the mean improvement scores between the two groups. Use a significance level of 0.05.  \n",
    "**b**. Based on the t-test results, state whether the null hypothesis should be rejected or not. Provide a conclusion in the context of the study."
   ]
  },
  {
   "cell_type": "code",
   "execution_count": 1,
   "id": "bfa80f20",
   "metadata": {},
   "outputs": [
    {
     "name": "stdout",
     "output_type": "stream",
     "text": [
      "Fail to reject the null hypothesis\n"
     ]
    }
   ],
   "source": [
    "import math\n",
    "from scipy.stats import t\n",
    "\n",
    "mean_groupA = 2.5\n",
    "mean_groupB = 2.2\n",
    "stdA = 0.8\n",
    "stdB = 0.6\n",
    "nA = 30\n",
    "nB = 30\n",
    "\n",
    "# Calculate the t-statistic\n",
    "t_statistic = (mean_groupA - mean_groupB) / math.sqrt((stdA**2/nA) + (stdB**2/nB))\n",
    "\n",
    "# Calculate the degrees of freedom\n",
    "df = nA + nB - 2\n",
    "\n",
    "# Set the significance level\n",
    "alpha = 0.05\n",
    "\n",
    "# Calculate the critical value for a two-tailed test\n",
    "critical_value = t.ppf(1 - alpha/2, df)\n",
    "\n",
    "# Compare the t-statistic with the critical value\n",
    "if abs(t_statistic) > critical_value:\n",
    "    print(\"Reject the null hypothesis\")\n",
    "else:\n",
    "    print(\"Fail to reject the null hypothesis\")\n"
   ]
  },
  {
   "cell_type": "code",
   "execution_count": null,
   "id": "7eeb4c7c",
   "metadata": {},
   "outputs": [],
   "source": []
  }
 ],
 "metadata": {
  "kernelspec": {
   "display_name": "Python 3 (ipykernel)",
   "language": "python",
   "name": "python3"
  },
  "language_info": {
   "codemirror_mode": {
    "name": "ipython",
    "version": 3
   },
   "file_extension": ".py",
   "mimetype": "text/x-python",
   "name": "python",
   "nbconvert_exporter": "python",
   "pygments_lexer": "ipython3",
   "version": "3.9.7"
  }
 },
 "nbformat": 4,
 "nbformat_minor": 5
}
