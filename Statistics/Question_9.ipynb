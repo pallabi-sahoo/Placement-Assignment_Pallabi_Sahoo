{
 "cells": [
  {
   "cell_type": "code",
   "execution_count": null,
   "id": "2158bfbb",
   "metadata": {},
   "outputs": [],
   "source": []
  },
  {
   "cell_type": "code",
   "execution_count": 1,
   "id": "7863cc35",
   "metadata": {},
   "outputs": [
    {
     "name": "stdout",
     "output_type": "stream",
     "text": [
      "One-way ANOVA test p-value: 0.7295954253321559\n",
      "The mean scores of the students are the same.\n"
     ]
    }
   ],
   "source": [
    "from scipy import stats\n",
    "\n",
    "# Data\n",
    "exam1 = [85, 70, 90, 75, 95]\n",
    "exam2 = [90, 80, 85, 70, 92]\n",
    "final_exam = [92, 85, 88, 75, 96]\n",
    "\n",
    "# Perform one-way ANOVA test\n",
    "_, p_value = stats.f_oneway(exam1, exam2, final_exam)\n",
    "\n",
    "alpha = 0.05\n",
    "\n",
    "print(f\"One-way ANOVA test p-value: {p_value}\")\n",
    "\n",
    "if p_value < alpha:\n",
    "    print(\"The mean scores of the students are not the same.\")\n",
    "    # Find the student with the highest score\n",
    "    scores = [max(exam1), max(exam2), max(final_exam)]\n",
    "    students = ['Karan', 'Deepa', 'Karthik']\n",
    "    student_with_highest_score = students[scores.index(max(scores))]\n",
    "    print(f\"The student with the highest score is: {student_with_highest_score}\")\n",
    "else:\n",
    "    print(\"The mean scores of the students are the same.\")\n"
   ]
  },
  {
   "cell_type": "code",
   "execution_count": null,
   "id": "adaeb0e5",
   "metadata": {},
   "outputs": [],
   "source": []
  }
 ],
 "metadata": {
  "kernelspec": {
   "display_name": "Python 3 (ipykernel)",
   "language": "python",
   "name": "python3"
  },
  "language_info": {
   "codemirror_mode": {
    "name": "ipython",
    "version": 3
   },
   "file_extension": ".py",
   "mimetype": "text/x-python",
   "name": "python",
   "nbconvert_exporter": "python",
   "pygments_lexer": "ipython3",
   "version": "3.9.7"
  }
 },
 "nbformat": 4,
 "nbformat_minor": 5
}
