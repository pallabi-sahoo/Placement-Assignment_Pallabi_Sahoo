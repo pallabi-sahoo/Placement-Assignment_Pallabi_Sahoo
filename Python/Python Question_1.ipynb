{
 "cells": [
  {
   "cell_type": "markdown",
   "id": "fc94520e",
   "metadata": {},
   "source": [
    "## Question 1:-\n",
    "Write a program that takes a string as input, and counts the frequency of each word in the string, there might\n",
    "be repeated characters in the string. Your task is to find the highest frequency and returns the length of the\n",
    "highest-frequency word.\n",
    "\n",
    "Note - You have to write at least 2 additional test cases in which your program will run successfully and provide\n",
    "an explanation for the same.\n",
    "\n",
    "Example input - string = “write write write all the number from from from 1 to 100”\n",
    "Example output - 5\n",
    "Explanation - From the given string we can note that the most frequent words are “write” and “from” and\n",
    "the maximum value of both the values is “write” and its corresponding length is 5"
   ]
  },
  {
   "cell_type": "code",
   "execution_count": 1,
   "id": "bc1f217c",
   "metadata": {},
   "outputs": [],
   "source": [
    "def high_freq_word(string):\n",
    "    word_freq = {}\n",
    "    \n",
    "    # Split the string into words\n",
    "    words = string.split()\n",
    "    \n",
    "    # Count the frequency of each word\n",
    "    for i in words:\n",
    "        word_freq[i]=word_freq.get(i, 0)+1\n",
    "        \n",
    "    # Find the highest frequency\n",
    "    high_freq = max(word_freq.values())\n",
    "    \n",
    "    # Find the length of the highest-frequency word\n",
    "    high_freq_word_len = 0\n",
    "    for i ,j in word_freq.items():\n",
    "        if j == high_freq and len(i) > high_freq_word_len:\n",
    "            high_freq_word_len = len(i)\n",
    "    return high_freq_word_len"
   ]
  },
  {
   "cell_type": "code",
   "execution_count": 2,
   "id": "2d8e2a6f",
   "metadata": {},
   "outputs": [
    {
     "name": "stdout",
     "output_type": "stream",
     "text": [
      "5\n",
      "Explanation 1 - From the given string1 we can note that the most frequent words are “write” and “from” and the maximum value of both the values is “write” and its corresponding length is 5\n",
      "6\n",
      "Explanation 2 - From the given string2 we can note that the most frequent words are “banana” and “cherry” and the maximum value of both the values is “banana” and its corresponding length is 6\n"
     ]
    }
   ],
   "source": [
    "# usecase 1\n",
    "string1 = \"write write write all the number from from from 1 to 100\"\n",
    "print(high_freq_word(string1))\n",
    "\n",
    "Exp1 = \"Explanation 1 - From the given string1 we can note that the most frequent words are “write” and “from” and the maximum value of both the values is “write” and its corresponding length is 5\"\n",
    "print(Exp1)\n",
    "\n",
    "\n",
    "# usecase 2\n",
    "string2= \"apple banana cherry banana cherry\"\n",
    "print(high_freq_word(string2))\n",
    "\n",
    "Exp2 = \"Explanation 2 - From the given string2 we can note that the most frequent words are “banana” and “cherry” and the maximum value of both the values is “banana” and its corresponding length is 6\"\n",
    "print(Exp2)"
   ]
  },
  {
   "cell_type": "code",
   "execution_count": null,
   "id": "b23834bc",
   "metadata": {},
   "outputs": [],
   "source": []
  }
 ],
 "metadata": {
  "kernelspec": {
   "display_name": "Python 3 (ipykernel)",
   "language": "python",
   "name": "python3"
  },
  "language_info": {
   "codemirror_mode": {
    "name": "ipython",
    "version": 3
   },
   "file_extension": ".py",
   "mimetype": "text/x-python",
   "name": "python",
   "nbconvert_exporter": "python",
   "pygments_lexer": "ipython3",
   "version": "3.9.7"
  }
 },
 "nbformat": 4,
 "nbformat_minor": 5
}
