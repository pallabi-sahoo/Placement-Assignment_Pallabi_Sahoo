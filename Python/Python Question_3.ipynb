{
 "cells": [
  {
   "cell_type": "markdown",
   "id": "a79821f1",
   "metadata": {},
   "source": [
    "### Question 3: -\n",
    "Write a program, which would download the data from the provided link, and then read the data and convert\n",
    "that into properly structured data and return it in Excel format.\n",
    "\n",
    "Note - Write comments wherever necessary explaining the code written.\n",
    "\n",
    "Link - https://raw.githubusercontent.com/Biuni/PokemonGO-Pokedex/master/pokedex.json"
   ]
  },
  {
   "cell_type": "code",
   "execution_count": 2,
   "id": "6a2c5b3d",
   "metadata": {},
   "outputs": [
    {
     "name": "stderr",
     "output_type": "stream",
     "text": [
      "C:\\Users\\pallabi.sahoo\\Anaconda3\\envs\\myenv\\lib\\site-packages\\urllib3\\connectionpool.py:1043: InsecureRequestWarning: Unverified HTTPS request is being made to host 'raw.githubusercontent.com'. Adding certificate verification is strongly advised. See: https://urllib3.readthedocs.io/en/1.26.x/advanced-usage.html#ssl-warnings\n",
      "  warnings.warn(\n"
     ]
    }
   ],
   "source": [
    "import pandas as pd\n",
    "import requests\n",
    "\n",
    "def download_data(url):\n",
    "    response = requests.get(url, verify=False)  # Send a GET request to the URL\n",
    "    response.raise_for_status()  # Check if the request was successful\n",
    "    return response.json()  # Return the response as JSON data\n",
    "\n",
    "def process_data(data):\n",
    "    processed_data = []\n",
    "    for pokemon in data['pokemon']:\n",
    "        pokemon_data = {\n",
    "            'ID': pokemon['id'],\n",
    "            'Number': pokemon['num'],\n",
    "            'Name': pokemon['name'],\n",
    "            'Image URL': pokemon['img'],\n",
    "            'Type': ', '.join(pokemon['type']),\n",
    "            'Height': pokemon['height'],\n",
    "            'Weight': pokemon['weight'],\n",
    "            'Candy': pokemon.get('candy', ''),\n",
    "            'Candy Count': pokemon.get('candy_count', 0),\n",
    "            'Egg Distance (km)': pokemon.get('egg', ''),\n",
    "            'Spawn Chance': pokemon.get('spawn_chance', 0),\n",
    "            'Average Spawns': pokemon.get('avg_spawns', 0),\n",
    "            'Spawn Time': pokemon.get('spawn_time', ''),\n",
    "            'Multipliers': ', '.join(map(str, pokemon['multipliers'])) if pokemon['multipliers'] else '',\n",
    "            'Weaknesses': ', '.join(pokemon.get('weaknesses', [])),\n",
    "            'Next Evolution': ', '.join([\n",
    "                f\"{evolution.get('num', '')} - {evolution.get('name', '')}\"\n",
    "                for evolution in pokemon.get('next_evolution', [])\n",
    "            ]),\n",
    "            'Previous Evolution': ', '.join([\n",
    "                f\"{evolution.get('num', '')} - {evolution.get('name', '')}\"\n",
    "                for evolution in pokemon.get('prev_evolution', [])\n",
    "            ])\n",
    "        }\n",
    "        processed_data.append(pokemon_data)\n",
    "    return processed_data\n",
    "\n",
    "def export_to_excel(data, output_file):\n",
    "    df = pd.DataFrame(data)  # Convert the processed data into a pandas DataFrame\n",
    "    df.to_excel(output_file, index=False)  # Export the DataFrame to an Excel file\n",
    "\n",
    "# Example usage\n",
    "data_url = \"https://raw.githubusercontent.com/Biuni/PokemonGO-Pokedex/master/pokedex.json\"\n",
    "output_file = \"output.xlsx\"\n",
    "\n",
    "# Download the data\n",
    "downloaded_data = download_data(data_url)\n",
    "\n",
    "# Process the data\n",
    "processed_data = process_data(downloaded_data)\n",
    "\n",
    "# Export the data to Excel\n",
    "export_to_excel(processed_data, output_file)\n"
   ]
  },
  {
   "cell_type": "code",
   "execution_count": null,
   "id": "fc4cd112",
   "metadata": {},
   "outputs": [],
   "source": []
  }
 ],
 "metadata": {
  "kernelspec": {
   "display_name": "Python 3 (ipykernel)",
   "language": "python",
   "name": "python3"
  },
  "language_info": {
   "codemirror_mode": {
    "name": "ipython",
    "version": 3
   },
   "file_extension": ".py",
   "mimetype": "text/x-python",
   "name": "python",
   "nbconvert_exporter": "python",
   "pygments_lexer": "ipython3",
   "version": "3.9.7"
  }
 },
 "nbformat": 4,
 "nbformat_minor": 5
}
