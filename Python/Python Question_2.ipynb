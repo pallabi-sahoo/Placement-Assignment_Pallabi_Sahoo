{
 "cells": [
  {
   "cell_type": "markdown",
   "id": "3e74fd04",
   "metadata": {},
   "source": [
    "## Question 2: -\n",
    "Consider a string to be valid if all characters of the string appear the same number of times. It is also valid if\n",
    "he can remove just one character at the index in the string, and the remaining characters will occur the same\n",
    "number of times. Given a string, determine if it is valid. If so, return YES , otherwise return NO .\n",
    "\n",
    "`Note` - You have to write at least 2 additional test cases in which your program will run successfully and  provide an explanation for the same.                                                                       \n",
    "\n",
    "Example input 1 - s = “abc”. This is a valid string because frequencies are { “a”: 1, “b”: 1, “c”: 1 }                   \n",
    "Example output 1- YES                                                                                                    \n",
    "Example input 2 - s “abcc”. This string is not valid as we can remove only 1 occurrence of “c”. That leaves character frequencies of { “a”: 1, “b”: 1 , “c”: 2 }                                                                     \n",
    "Example output 2 - NO                                                                            "
   ]
  },
  {
   "cell_type": "code",
   "execution_count": 1,
   "id": "531b4df3",
   "metadata": {},
   "outputs": [],
   "source": [
    "def is_valid_string(s):\n",
    "    char_count = {}\n",
    "    for i in s:\n",
    "        char_count[i] = char_count.get(i, 0) + 1\n",
    "\n",
    "    counts = list(char_count.values())\n",
    "    unique_counts = set(counts)\n",
    "\n",
    "    if len(unique_counts) == 1:\n",
    "        # All characters have the same frequency\n",
    "        return \"YES\"\n",
    "\n",
    "    if len(unique_counts) == 2:\n",
    "        # Check if removing one character can make the frequencies the same\n",
    "        count_a, count_b = unique_counts\n",
    "        if (counts.count(count_a) == 1 and count_a == 1) or (counts.count(count_b) == 1 and count_b == 1):\n",
    "            # One of the frequencies is 1 and occurs only once\n",
    "            return \"YES\"\n",
    "\n",
    "    return \"NO\"\n"
   ]
  },
  {
   "cell_type": "code",
   "execution_count": 2,
   "id": "7902cc9e",
   "metadata": {},
   "outputs": [
    {
     "name": "stdout",
     "output_type": "stream",
     "text": [
      "YES\n",
      "Explanation: This is a valid string because frequencies are { “a”: 1, “b”: 1, “c”: 1 }\n",
      "NO\n",
      "Explanation: This string is not valid as we can remove only 1 occurrence of “c”. That leaves character frequencies of { “a”: 1, “b”: 1 , “c”: 2 }\n"
     ]
    }
   ],
   "source": [
    "print(is_valid_string(\"abc\"))  \n",
    "print(\"Explanation: This is a valid string because frequencies are { “a”: 1, “b”: 1, “c”: 1 }\")\n",
    "# Output: YES\n",
    "\n",
    "print(is_valid_string(\"abcc\"))  \n",
    "print(\"Explanation: This string is not valid as we can remove only 1 occurrence of “c”. That leaves character frequencies of { “a”: 1, “b”: 1 , “c”: 2 }\")\n",
    "# Output: NO"
   ]
  },
  {
   "cell_type": "code",
   "execution_count": null,
   "id": "0f5eae1a",
   "metadata": {},
   "outputs": [],
   "source": []
  }
 ],
 "metadata": {
  "kernelspec": {
   "display_name": "Python 3 (ipykernel)",
   "language": "python",
   "name": "python3"
  },
  "language_info": {
   "codemirror_mode": {
    "name": "ipython",
    "version": 3
   },
   "file_extension": ".py",
   "mimetype": "text/x-python",
   "name": "python",
   "nbconvert_exporter": "python",
   "pygments_lexer": "ipython3",
   "version": "3.9.7"
  }
 },
 "nbformat": 4,
 "nbformat_minor": 5
}
